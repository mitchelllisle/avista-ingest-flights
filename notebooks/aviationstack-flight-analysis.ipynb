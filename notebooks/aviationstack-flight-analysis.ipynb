{
 "cells": [
  {
   "cell_type": "code",
   "execution_count": null,
   "metadata": {},
   "outputs": [],
   "source": [
    "from google.cloud import storage\n",
    "import funcy as fn\n",
    "import pandas as pd\n",
    "import altair as alt\n",
    "import plotly.express as px\n",
    "import json\n",
    "import re\n",
    "from typing import Dict\n",
    "from pydantic import BaseSettings, Field\n",
    "from collectionish import AttyDict"
   ]
  },
  {
   "cell_type": "code",
   "execution_count": null,
   "metadata": {},
   "outputs": [],
   "source": [
    "class GoogleConfig(BaseSettings):\n",
    "    credentials: str = Field(..., env=\"GOOGLE_APPLICATION_CREDENTIALS\")\n",
    "    project: str = Field(..., env=\"GOOGLE_PROJECT\")\n",
    "    bucket: str = Field(..., env=\"GOOGLE_BUCKET\")\n",
    "    folder: str = Field(..., env=\"GOOGLE_FOLDER\")\n",
    "\n",
    "class NotebookConfig(BaseSettings):\n",
    "    google = GoogleConfig()\n",
    "\n",
    "config = NotebookConfig()"
   ]
  },
  {
   "cell_type": "code",
   "execution_count": null,
   "metadata": {},
   "outputs": [],
   "source": [
    "class Storage:\n",
    "    def __init__(self, project: str, bucket: str):\n",
    "        self.project = project\n",
    "        self.bucket_name = bucket\n",
    "        client = storage.Client(project=project)\n",
    "    \n",
    "    @property\n",
    "    def bucket(self):\n",
    "        return client.get_bucket(self.bucket_name)\n",
    "    \n",
    "    \n",
    "gcs = Storage(\n",
    "    project=config.google.project,\n",
    "    bucket=config.google.bucket\n",
    ")"
   ]
  },
  {
   "cell_type": "code",
   "execution_count": null,
   "metadata": {},
   "outputs": [],
   "source": [
    "files = fn.lmap(lambda blob: blob.name, gcs.bucket.list_blobs(prefix=config.google.folder))\n",
    "files[0]"
   ]
  },
  {
   "cell_type": "code",
   "execution_count": null,
   "metadata": {},
   "outputs": [],
   "source": [
    "blobs = fn.lmap(lambda file: gcs.bucket.get_blob(file), files)\n",
    "blobs[0]"
   ]
  },
  {
   "cell_type": "code",
   "execution_count": null,
   "metadata": {},
   "outputs": [],
   "source": [
    "data = fn.flatten(fn.map(lambda x: x.download_as_string(), blobs))"
   ]
  },
  {
   "cell_type": "code",
   "execution_count": null,
   "metadata": {},
   "outputs": [],
   "source": [
    "RECORD_EXPR = re.compile(r\"({.+)\")\n",
    "records = fn.flatten(fn.map(lambda x: RECORD_EXPR.search(str(x)).groups()[0].split(\"\\\\n\"), data))\n",
    "\n",
    "@fn.ignore(json.JSONDecodeError)\n",
    "def parse_or_ignore_jsonlines(row: str) -> AttyDict:\n",
    "    if isinstance(row, str):\n",
    "        return AttyDict(json.loads(row))\n",
    "    else:\n",
    "        return row"
   ]
  },
  {
   "cell_type": "code",
   "execution_count": null,
   "metadata": {},
   "outputs": [],
   "source": [
    "parsed = fn.lmap(lambda x: parse_or_ignore_jsonlines(x), records)\n",
    "len(parsed)"
   ]
  },
  {
   "cell_type": "code",
   "execution_count": null,
   "metadata": {},
   "outputs": [],
   "source": [
    "flights = fn.lfilter(lambda x: fn.notnone(x), parsed)\n",
    "flights[0]"
   ]
  },
  {
   "cell_type": "code",
   "execution_count": null,
   "metadata": {},
   "outputs": [],
   "source": [
    "def make_row(row):\n",
    "    return AttyDict({\n",
    "        \"id\": row.flight.number,\n",
    "        \"date\": row.flight_date,\n",
    "        \"status\": row.flight_status,\n",
    "        \"airport_departed_code\": row.departure.iata,\n",
    "        \"airport_departed\": row.departure.airport,\n",
    "        \"scheduled_departure\": row.departure.scheduled,\n",
    "        \"actual_departure\": row.departure.actual,\n",
    "        \"airport_arrival_code\": row.arrival.iata,    \n",
    "        \"airport_arrived\": row.arrival.airport,\n",
    "        \"scheduled_arrival\": row.arrival.scheduled,\n",
    "        \"actual_arrival\": row.arrival.actual,    \n",
    "        \"delay\": row.departure.delay,\n",
    "        \"airline\": row.airline.name\n",
    "    })\n",
    "\n",
    "df = pd.DataFrame(fn.lmap(lambda row: make_row(row), flights))\n",
    "df.head()"
   ]
  },
  {
   "cell_type": "code",
   "execution_count": null,
   "metadata": {},
   "outputs": [],
   "source": [
    "df[df.airport_departed_code == \"LHR\"]"
   ]
  },
  {
   "cell_type": "code",
   "execution_count": null,
   "metadata": {},
   "outputs": [],
   "source": [
    "departures = (\n",
    "    df\n",
    "    .drop_duplicates(\"id\")\n",
    "    .groupby(\"airport_departed\")\n",
    "    .agg(count=(\"id\", \"count\"))\n",
    "    .reset_index()\n",
    "    .sort_values(\"count\")\n",
    ")\n",
    "departures.head()"
   ]
  },
  {
   "cell_type": "code",
   "execution_count": null,
   "metadata": {},
   "outputs": [],
   "source": [
    "alt.Chart(departures).mark_bar().encode(\n",
    "    x=alt.X(\"count:Q\"),\n",
    "    y=alt.Y(\"airport_departed\"),\n",
    "    tooltip=departures.columns.tolist()\n",
    ").properties(\n",
    "    height=700\n",
    ")"
   ]
  },
  {
   "cell_type": "code",
   "execution_count": null,
   "metadata": {},
   "outputs": [],
   "source": []
  }
 ],
 "metadata": {
  "kernelspec": {
   "display_name": "Python 3",
   "language": "python",
   "name": "python3"
  },
  "language_info": {
   "codemirror_mode": {
    "name": "ipython",
    "version": 3
   },
   "file_extension": ".py",
   "mimetype": "text/x-python",
   "name": "python",
   "nbconvert_exporter": "python",
   "pygments_lexer": "ipython3",
   "version": "3.7.0"
  }
 },
 "nbformat": 4,
 "nbformat_minor": 4
}
