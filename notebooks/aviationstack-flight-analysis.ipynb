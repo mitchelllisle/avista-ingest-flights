{
 "cells": [
  {
   "cell_type": "code",
   "execution_count": 193,
   "metadata": {},
   "outputs": [],
   "source": [
    "from google.cloud import storage\n",
    "import funcy as fn\n",
    "import pandas as pd\n",
    "import altair as alt\n",
    "import plotly.express as px\n",
    "import json\n",
    "import re\n",
    "from typing import Dict\n",
    "from pydantic import BaseSettings, Field\n",
    "from collectionish import AttyDict"
   ]
  },
  {
   "cell_type": "code",
   "execution_count": 74,
   "metadata": {},
   "outputs": [],
   "source": [
    "class GoogleConfig(BaseSettings):\n",
    "    credentials: str = Field(..., env=\"GOOGLE_APPLICATION_CREDENTIALS\")\n",
    "    project: str = Field(default=\"avista-302012\", env=\"GOOGLE_PROJECT\")\n",
    "    bucket: str = Field(default=\"avista-flights\", env=\"GOOGLE_BUCKET\")\n",
    "    folder: str = Field(default=\"flights\", env=\"GOOGLE_FOLDER\")\n",
    "\n",
    "class NotebookConfig(BaseSettings):\n",
    "    google = GoogleConfig()\n",
    "\n",
    "config = NotebookConfig()"
   ]
  },
  {
   "cell_type": "code",
   "execution_count": 85,
   "metadata": {},
   "outputs": [],
   "source": [
    "class Storage:\n",
    "    def __init__(self, project: str, bucket: str):\n",
    "        self.project = project\n",
    "        self.bucket_name = bucket\n",
    "        client = storage.Client(project=project)\n",
    "    \n",
    "    @property\n",
    "    def bucket(self):\n",
    "        return client.get_bucket(self.bucket_name)\n",
    "    \n",
    "    \n",
    "gcs = Storage(\n",
    "    project=config.google.project,\n",
    "    bucket=config.google.bucket\n",
    ")"
   ]
  },
  {
   "cell_type": "code",
   "execution_count": 88,
   "metadata": {},
   "outputs": [
    {
     "data": {
      "text/plain": [
       "'flights/2021/1/22/828b2586-fe14-437e-8457-549cfe34a7df.jsonl'"
      ]
     },
     "execution_count": 88,
     "metadata": {},
     "output_type": "execute_result"
    }
   ],
   "source": [
    "files = fn.lmap(lambda blob: blob.name, gcs.bucket.list_blobs(prefix=config.google.folder))\n",
    "files[0]"
   ]
  },
  {
   "cell_type": "code",
   "execution_count": 90,
   "metadata": {},
   "outputs": [
    {
     "data": {
      "text/plain": [
       "<Blob: avista-flights, flights/2021/1/22/828b2586-fe14-437e-8457-549cfe34a7df.jsonl>"
      ]
     },
     "execution_count": 90,
     "metadata": {},
     "output_type": "execute_result"
    }
   ],
   "source": [
    "blobs = fn.lmap(lambda file: gcs.bucket.get_blob(file), files)\n",
    "blobs[0]"
   ]
  },
  {
   "cell_type": "code",
   "execution_count": 214,
   "metadata": {},
   "outputs": [],
   "source": [
    "data = fn.flatten(fn.map(lambda x: x.download_as_string(), blobs))"
   ]
  },
  {
   "cell_type": "code",
   "execution_count": 215,
   "metadata": {},
   "outputs": [],
   "source": [
    "RECORD_EXPR = re.compile(r\"({.+)\")\n",
    "records = fn.flatten(fn.map(lambda x: RECORD_EXPR.search(str(x)).groups()[0].split(\"\\\\n\"), data))\n",
    "\n",
    "@fn.ignore(json.JSONDecodeError)\n",
    "def parse_or_ignore_jsonlines(row: str) -> AttyDict:\n",
    "    if isinstance(row, str):\n",
    "        return AttyDict(json.loads(row))\n",
    "    else:\n",
    "        return row"
   ]
  },
  {
   "cell_type": "code",
   "execution_count": 216,
   "metadata": {},
   "outputs": [
    {
     "data": {
      "text/plain": [
       "4133"
      ]
     },
     "execution_count": 216,
     "metadata": {},
     "output_type": "execute_result"
    }
   ],
   "source": [
    "parsed = fn.lmap(lambda x: parse_or_ignore_jsonlines(x), records)\n",
    "len(parsed)"
   ]
  },
  {
   "cell_type": "code",
   "execution_count": 232,
   "metadata": {},
   "outputs": [
    {
     "data": {
      "text/plain": [
       "{'flight_date': '2021-01-23',\n",
       " 'flight_status': 'active',\n",
       " 'departure': {'airport': 'Auckland International',\n",
       "  'timezone': 'Pacific/Auckland',\n",
       "  'iata': 'AKL',\n",
       "  'icao': 'NZAA',\n",
       "  'terminal': 'I',\n",
       "  'gate': '1',\n",
       "  'baggage': '',\n",
       "  'delay': 9,\n",
       "  'scheduled': '2021-01-23T10:40:00Z',\n",
       "  'estimated': '2021-01-23T10:40:00Z',\n",
       "  'actual': '2021-01-23T10:49:00Z',\n",
       "  'estimated_runway': '2021-01-23T10:49:00Z',\n",
       "  'actual_runway': '2021-01-23T10:49:00Z'},\n",
       " 'arrival': {'airport': 'Kingsford Smith',\n",
       "  'timezone': 'Australia/Sydney',\n",
       "  'iata': 'SYD',\n",
       "  'icao': 'YSSY',\n",
       "  'terminal': '1',\n",
       "  'gate': '37',\n",
       "  'baggage': '12',\n",
       "  'delay': 0,\n",
       "  'scheduled': '2021-01-23T12:20:00Z',\n",
       "  'estimated': '2021-01-23T12:20:00Z',\n",
       "  'actual': '0001-01-01T00:00:00Z',\n",
       "  'estimated_runway': '0001-01-01T00:00:00Z',\n",
       "  'actual_runway': '0001-01-01T00:00:00Z'},\n",
       " 'airline': {'name': 'Air New Zealand', 'iata': 'NZ', 'icao': 'ANZ'},\n",
       " 'flight': {'number': '103', 'iata': 'NZ103', 'icao': 'ANZ103'}}"
      ]
     },
     "execution_count": 232,
     "metadata": {},
     "output_type": "execute_result"
    }
   ],
   "source": [
    "flights = fn.lfilter(lambda x: fn.notnone(x), parsed)\n",
    "flights[0]"
   ]
  },
  {
   "cell_type": "code",
   "execution_count": 235,
   "metadata": {},
   "outputs": [
    {
     "data": {
      "text/html": [
       "<div>\n",
       "<style scoped>\n",
       "    .dataframe tbody tr th:only-of-type {\n",
       "        vertical-align: middle;\n",
       "    }\n",
       "\n",
       "    .dataframe tbody tr th {\n",
       "        vertical-align: top;\n",
       "    }\n",
       "\n",
       "    .dataframe thead th {\n",
       "        text-align: right;\n",
       "    }\n",
       "</style>\n",
       "<table border=\"1\" class=\"dataframe\">\n",
       "  <thead>\n",
       "    <tr style=\"text-align: right;\">\n",
       "      <th></th>\n",
       "      <th>id</th>\n",
       "      <th>date</th>\n",
       "      <th>status</th>\n",
       "      <th>airport_departed_code</th>\n",
       "      <th>airport_departed</th>\n",
       "      <th>scheduled_departure</th>\n",
       "      <th>actual_departure</th>\n",
       "      <th>airport_arrival_code</th>\n",
       "      <th>airport_arrived</th>\n",
       "      <th>scheduled_arrival</th>\n",
       "      <th>actual_arrival</th>\n",
       "      <th>delay</th>\n",
       "      <th>airline</th>\n",
       "    </tr>\n",
       "  </thead>\n",
       "  <tbody>\n",
       "    <tr>\n",
       "      <td>0</td>\n",
       "      <td>103</td>\n",
       "      <td>2021-01-23</td>\n",
       "      <td>active</td>\n",
       "      <td>AKL</td>\n",
       "      <td>Auckland International</td>\n",
       "      <td>2021-01-23T10:40:00Z</td>\n",
       "      <td>2021-01-23T10:49:00Z</td>\n",
       "      <td>SYD</td>\n",
       "      <td>Kingsford Smith</td>\n",
       "      <td>2021-01-23T12:20:00Z</td>\n",
       "      <td>0001-01-01T00:00:00Z</td>\n",
       "      <td>9</td>\n",
       "      <td>Air New Zealand</td>\n",
       "    </tr>\n",
       "    <tr>\n",
       "      <td>1</td>\n",
       "      <td>9514</td>\n",
       "      <td>2021-01-23</td>\n",
       "      <td>active</td>\n",
       "      <td>AKL</td>\n",
       "      <td>Auckland International</td>\n",
       "      <td>2021-01-23T10:40:00Z</td>\n",
       "      <td>2021-01-23T10:49:00Z</td>\n",
       "      <td>SYD</td>\n",
       "      <td>Kingsford Smith</td>\n",
       "      <td>2021-01-23T12:20:00Z</td>\n",
       "      <td>0001-01-01T00:00:00Z</td>\n",
       "      <td>9</td>\n",
       "      <td>Alaska Airlines</td>\n",
       "    </tr>\n",
       "    <tr>\n",
       "      <td>2</td>\n",
       "      <td>1911</td>\n",
       "      <td>2021-01-23</td>\n",
       "      <td>active</td>\n",
       "      <td>NAN</td>\n",
       "      <td>Nadi International</td>\n",
       "      <td>2021-01-23T10:00:00Z</td>\n",
       "      <td>2021-01-23T10:11:00Z</td>\n",
       "      <td>SYD</td>\n",
       "      <td>Kingsford Smith</td>\n",
       "      <td>2021-01-23T13:40:00Z</td>\n",
       "      <td>0001-01-01T00:00:00Z</td>\n",
       "      <td>11</td>\n",
       "      <td>Fiji Airways</td>\n",
       "    </tr>\n",
       "    <tr>\n",
       "      <td>3</td>\n",
       "      <td>7520</td>\n",
       "      <td>2021-01-23</td>\n",
       "      <td>unknown</td>\n",
       "      <td>PVG</td>\n",
       "      <td>Shanghai Pudong International</td>\n",
       "      <td>2021-01-23T05:35:00Z</td>\n",
       "      <td>0001-01-01T00:00:00Z</td>\n",
       "      <td>SYD</td>\n",
       "      <td>Kingsford Smith</td>\n",
       "      <td>2021-01-23T18:40:00Z</td>\n",
       "      <td>0001-01-01T00:00:00Z</td>\n",
       "      <td>0</td>\n",
       "      <td>Qantas</td>\n",
       "    </tr>\n",
       "    <tr>\n",
       "      <td>4</td>\n",
       "      <td>426</td>\n",
       "      <td>2021-01-23</td>\n",
       "      <td>active</td>\n",
       "      <td>MEL</td>\n",
       "      <td>Tullamarine</td>\n",
       "      <td>2021-01-23T09:00:00Z</td>\n",
       "      <td>2021-01-23T09:07:00Z</td>\n",
       "      <td>SYD</td>\n",
       "      <td>Kingsford Smith</td>\n",
       "      <td>2021-01-23T10:20:00Z</td>\n",
       "      <td>0001-01-01T00:00:00Z</td>\n",
       "      <td>7</td>\n",
       "      <td>Qantas</td>\n",
       "    </tr>\n",
       "  </tbody>\n",
       "</table>\n",
       "</div>"
      ],
      "text/plain": [
       "     id        date   status airport_departed_code  \\\n",
       "0   103  2021-01-23   active                   AKL   \n",
       "1  9514  2021-01-23   active                   AKL   \n",
       "2  1911  2021-01-23   active                   NAN   \n",
       "3  7520  2021-01-23  unknown                   PVG   \n",
       "4   426  2021-01-23   active                   MEL   \n",
       "\n",
       "                airport_departed   scheduled_departure      actual_departure  \\\n",
       "0         Auckland International  2021-01-23T10:40:00Z  2021-01-23T10:49:00Z   \n",
       "1         Auckland International  2021-01-23T10:40:00Z  2021-01-23T10:49:00Z   \n",
       "2             Nadi International  2021-01-23T10:00:00Z  2021-01-23T10:11:00Z   \n",
       "3  Shanghai Pudong International  2021-01-23T05:35:00Z  0001-01-01T00:00:00Z   \n",
       "4                    Tullamarine  2021-01-23T09:00:00Z  2021-01-23T09:07:00Z   \n",
       "\n",
       "  airport_arrival_code  airport_arrived     scheduled_arrival  \\\n",
       "0                  SYD  Kingsford Smith  2021-01-23T12:20:00Z   \n",
       "1                  SYD  Kingsford Smith  2021-01-23T12:20:00Z   \n",
       "2                  SYD  Kingsford Smith  2021-01-23T13:40:00Z   \n",
       "3                  SYD  Kingsford Smith  2021-01-23T18:40:00Z   \n",
       "4                  SYD  Kingsford Smith  2021-01-23T10:20:00Z   \n",
       "\n",
       "         actual_arrival  delay          airline  \n",
       "0  0001-01-01T00:00:00Z      9  Air New Zealand  \n",
       "1  0001-01-01T00:00:00Z      9  Alaska Airlines  \n",
       "2  0001-01-01T00:00:00Z     11     Fiji Airways  \n",
       "3  0001-01-01T00:00:00Z      0           Qantas  \n",
       "4  0001-01-01T00:00:00Z      7           Qantas  "
      ]
     },
     "execution_count": 235,
     "metadata": {},
     "output_type": "execute_result"
    }
   ],
   "source": [
    "def make_row(row):\n",
    "    return AttyDict({\n",
    "        \"id\": row.flight.number,\n",
    "        \"date\": row.flight_date,\n",
    "        \"status\": row.flight_status,\n",
    "        \"airport_departed_code\": row.departure.iata,\n",
    "        \"airport_departed\": row.departure.airport,\n",
    "        \"scheduled_departure\": row.departure.scheduled,\n",
    "        \"actual_departure\": row.departure.actual,\n",
    "        \"airport_arrival_code\": row.arrival.iata,    \n",
    "        \"airport_arrived\": row.arrival.airport,\n",
    "        \"scheduled_arrival\": row.arrival.scheduled,\n",
    "        \"actual_arrival\": row.arrival.actual,    \n",
    "        \"delay\": row.departure.delay,\n",
    "        \"airline\": row.airline.name\n",
    "    })\n",
    "\n",
    "df = pd.DataFrame(fn.lmap(lambda row: make_row(row), flights))\n",
    "df.head()"
   ]
  },
  {
   "cell_type": "code",
   "execution_count": 260,
   "metadata": {},
   "outputs": [
    {
     "data": {
      "text/html": [
       "<div>\n",
       "<style scoped>\n",
       "    .dataframe tbody tr th:only-of-type {\n",
       "        vertical-align: middle;\n",
       "    }\n",
       "\n",
       "    .dataframe tbody tr th {\n",
       "        vertical-align: top;\n",
       "    }\n",
       "\n",
       "    .dataframe thead th {\n",
       "        text-align: right;\n",
       "    }\n",
       "</style>\n",
       "<table border=\"1\" class=\"dataframe\">\n",
       "  <thead>\n",
       "    <tr style=\"text-align: right;\">\n",
       "      <th></th>\n",
       "      <th>id</th>\n",
       "      <th>date</th>\n",
       "      <th>status</th>\n",
       "      <th>airport_departed_code</th>\n",
       "      <th>airport_departed</th>\n",
       "      <th>scheduled_departure</th>\n",
       "      <th>actual_departure</th>\n",
       "      <th>airport_arrival_code</th>\n",
       "      <th>airport_arrived</th>\n",
       "      <th>scheduled_arrival</th>\n",
       "      <th>actual_arrival</th>\n",
       "      <th>delay</th>\n",
       "      <th>airline</th>\n",
       "    </tr>\n",
       "  </thead>\n",
       "  <tbody>\n",
       "  </tbody>\n",
       "</table>\n",
       "</div>"
      ],
      "text/plain": [
       "Empty DataFrame\n",
       "Columns: [id, date, status, airport_departed_code, airport_departed, scheduled_departure, actual_departure, airport_arrival_code, airport_arrived, scheduled_arrival, actual_arrival, delay, airline]\n",
       "Index: []"
      ]
     },
     "execution_count": 260,
     "metadata": {},
     "output_type": "execute_result"
    }
   ],
   "source": [
    "df[df.airport_departed_code == \"LHR\"]"
   ]
  },
  {
   "cell_type": "code",
   "execution_count": 261,
   "metadata": {},
   "outputs": [
    {
     "data": {
      "text/html": [
       "<div>\n",
       "<style scoped>\n",
       "    .dataframe tbody tr th:only-of-type {\n",
       "        vertical-align: middle;\n",
       "    }\n",
       "\n",
       "    .dataframe tbody tr th {\n",
       "        vertical-align: top;\n",
       "    }\n",
       "\n",
       "    .dataframe thead th {\n",
       "        text-align: right;\n",
       "    }\n",
       "</style>\n",
       "<table border=\"1\" class=\"dataframe\">\n",
       "  <thead>\n",
       "    <tr style=\"text-align: right;\">\n",
       "      <th></th>\n",
       "      <th>airport_departed</th>\n",
       "      <th>count</th>\n",
       "    </tr>\n",
       "  </thead>\n",
       "  <tbody>\n",
       "    <tr>\n",
       "      <td>64</td>\n",
       "      <td>Xiamen</td>\n",
       "      <td>1</td>\n",
       "    </tr>\n",
       "    <tr>\n",
       "      <td>30</td>\n",
       "      <td>Hangzhou</td>\n",
       "      <td>1</td>\n",
       "    </tr>\n",
       "    <tr>\n",
       "      <td>17</td>\n",
       "      <td>Cooma</td>\n",
       "      <td>1</td>\n",
       "    </tr>\n",
       "    <tr>\n",
       "      <td>14</td>\n",
       "      <td>Chu-Bu Centrair International (Central Japan I...</td>\n",
       "      <td>1</td>\n",
       "    </tr>\n",
       "    <tr>\n",
       "      <td>42</td>\n",
       "      <td>Mudgee</td>\n",
       "      <td>1</td>\n",
       "    </tr>\n",
       "  </tbody>\n",
       "</table>\n",
       "</div>"
      ],
      "text/plain": [
       "                                     airport_departed  count\n",
       "64                                             Xiamen      1\n",
       "30                                           Hangzhou      1\n",
       "17                                              Cooma      1\n",
       "14  Chu-Bu Centrair International (Central Japan I...      1\n",
       "42                                             Mudgee      1"
      ]
     },
     "execution_count": 261,
     "metadata": {},
     "output_type": "execute_result"
    }
   ],
   "source": [
    "departures = (\n",
    "    df\n",
    "    .drop_duplicates(\"id\")\n",
    "    .groupby(\"airport_departed\")\n",
    "    .agg(count=(\"id\", \"count\"))\n",
    "    .reset_index()\n",
    "    .sort_values(\"count\")\n",
    ")\n",
    "departures.head()"
   ]
  },
  {
   "cell_type": "code",
   "execution_count": 262,
   "metadata": {},
   "outputs": [
    {
     "data": {
      "application/vnd.vegalite.v3+json": {
       "$schema": "https://vega.github.io/schema/vega-lite/v3.4.0.json",
       "config": {
        "mark": {
         "tooltip": null
        },
        "view": {
         "height": 300,
         "width": 400
        }
       },
       "data": {
        "name": "data-83a44cbb1af80330a4096304b4b52993"
       },
       "datasets": {
        "data-83a44cbb1af80330a4096304b4b52993": [
         {
          "airport_departed": "Xiamen",
          "count": 1
         },
         {
          "airport_departed": "Hangzhou",
          "count": 1
         },
         {
          "airport_departed": "Cooma",
          "count": 1
         },
         {
          "airport_departed": "Chu-Bu Centrair International (Central Japan International)",
          "count": 1
         },
         {
          "airport_departed": "Mudgee",
          "count": 1
         },
         {
          "airport_departed": "Nadi International",
          "count": 1
         },
         {
          "airport_departed": "Tan Son Nhat International",
          "count": 1
         },
         {
          "airport_departed": "Guam International",
          "count": 1
         },
         {
          "airport_departed": "Bendigo",
          "count": 1
         },
         {
          "airport_departed": "Tontouta",
          "count": 1
         },
         {
          "airport_departed": "Vancouver International",
          "count": 1
         },
         {
          "airport_departed": "Narita International Airport",
          "count": 1
         },
         {
          "airport_departed": "Narrabri",
          "count": 1
         },
         {
          "airport_departed": "Narrandera",
          "count": 1
         },
         {
          "airport_departed": "Seoul (Incheon)",
          "count": 1
         },
         {
          "airport_departed": "Bandaranaike International",
          "count": 1
         },
         {
          "airport_departed": "Faleolo",
          "count": 1
         },
         {
          "airport_departed": "Norfolk Island",
          "count": 2
         },
         {
          "airport_departed": "Moree",
          "count": 2
         },
         {
          "airport_departed": "Lismore",
          "count": 2
         },
         {
          "airport_departed": "Parkes",
          "count": 2
         },
         {
          "airport_departed": "Griffith",
          "count": 2
         },
         {
          "airport_departed": "Dubai",
          "count": 2
         },
         {
          "airport_departed": "Whitsunday Coast",
          "count": 3
         },
         {
          "airport_departed": "Alice Springs",
          "count": 3
         },
         {
          "airport_departed": "Christchurch International",
          "count": 3
         },
         {
          "airport_departed": "Tamworth Regional Airport",
          "count": 3
         },
         {
          "airport_departed": "Shanghai Pudong International",
          "count": 3
         },
         {
          "airport_departed": "Williamtown",
          "count": 3
         },
         {
          "airport_departed": "Darwin",
          "count": 3
         },
         {
          "airport_departed": "Connellan",
          "count": 3
         },
         {
          "airport_departed": "San Francisco International",
          "count": 3
         },
         {
          "airport_departed": "Guangzhou Baiyun International",
          "count": 3
         },
         {
          "airport_departed": "Hamilton Island",
          "count": 4
         },
         {
          "airport_departed": "Honolulu International",
          "count": 4
         },
         {
          "airport_departed": "Haneda Airport",
          "count": 4
         },
         {
          "airport_departed": "Merimbula",
          "count": 4
         },
         {
          "airport_departed": "Springhill",
          "count": 5
         },
         {
          "airport_departed": "Port Macquarie",
          "count": 5
         },
         {
          "airport_departed": "Doha International",
          "count": 5
         },
         {
          "airport_departed": "Kuala Lumpur International Airport (klia)",
          "count": 7
         },
         {
          "airport_departed": "Avalon",
          "count": 8
         },
         {
          "airport_departed": "Armidale",
          "count": 8
         },
         {
          "airport_departed": "Taiwan Taoyuan International (Chiang Kai Shek International)",
          "count": 8
         },
         {
          "airport_departed": "Lord Howe Island",
          "count": 9
         },
         {
          "airport_departed": "Launceston",
          "count": 9
         },
         {
          "airport_departed": "Albury",
          "count": 9
         },
         {
          "airport_departed": "Maroochydore",
          "count": 10
         },
         {
          "airport_departed": "Canberra",
          "count": 11
         },
         {
          "airport_departed": "Auckland International",
          "count": 11
         },
         {
          "airport_departed": "Singapore Changi",
          "count": 11
         },
         {
          "airport_departed": "Dubbo",
          "count": 12
         },
         {
          "airport_departed": "Hong Kong International",
          "count": 13
         },
         {
          "airport_departed": "Coffs Harbour",
          "count": 13
         },
         {
          "airport_departed": "Perth International",
          "count": 13
         },
         {
          "airport_departed": "Forest Hill",
          "count": 14
         },
         {
          "airport_departed": "Los Angeles International",
          "count": 15
         },
         {
          "airport_departed": "Hobart",
          "count": 17
         },
         {
          "airport_departed": "Cairns",
          "count": 17
         },
         {
          "airport_departed": "Abu Dhabi International",
          "count": 18
         },
         {
          "airport_departed": "Ballina Byron Gateway",
          "count": 25
         },
         {
          "airport_departed": "Adelaide International Airport",
          "count": 28
         },
         {
          "airport_departed": "Gold Coast (coolangatta)",
          "count": 42
         },
         {
          "airport_departed": "Brisbane International",
          "count": 54
         },
         {
          "airport_departed": "Tullamarine",
          "count": 91
         }
        ]
       },
       "encoding": {
        "tooltip": [
         {
          "field": "airport_departed",
          "type": "nominal"
         },
         {
          "field": "count",
          "type": "quantitative"
         }
        ],
        "x": {
         "field": "count",
         "type": "quantitative"
        },
        "y": {
         "field": "airport_departed",
         "type": "nominal"
        }
       },
       "height": 700,
       "mark": "bar"
      },
      "image/png": "[encoded data removed]",
      "text/plain": [
       "<VegaLite 3 object>\n",
       "\n",
       "If you see this message, it means the renderer has not been properly enabled\n",
       "for the frontend that you are using. For more information, see\n",
       "https://altair-viz.github.io/user_guide/troubleshooting.html\n"
      ]
     },
     "execution_count": 262,
     "metadata": {},
     "output_type": "execute_result"
    }
   ],
   "source": [
    "alt.Chart(departures).mark_bar().encode(\n",
    "    x=alt.X(\"count:Q\"),\n",
    "    y=alt.Y(\"airport_departed\"),\n",
    "    tooltip=departures.columns.tolist()\n",
    ").properties(\n",
    "    height=700\n",
    ")"
   ]
  },
  {
   "cell_type": "code",
   "execution_count": null,
   "metadata": {},
   "outputs": [],
   "source": []
  }
 ],
 "metadata": {
  "kernelspec": {
   "display_name": "Python 3",
   "language": "python",
   "name": "python3"
  },
  "language_info": {
   "codemirror_mode": {
    "name": "ipython",
    "version": 3
   },
   "file_extension": ".py",
   "mimetype": "text/x-python",
   "name": "python",
   "nbconvert_exporter": "python",
   "pygments_lexer": "ipython3",
   "version": "3.7.0"
  }
 },
 "nbformat": 4,
 "nbformat_minor": 4
}
